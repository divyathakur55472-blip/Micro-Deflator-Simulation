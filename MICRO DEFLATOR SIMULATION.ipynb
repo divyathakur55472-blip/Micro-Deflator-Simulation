{
 "cells": [
  {
   "cell_type": "code",
   "execution_count": null,
   "id": "c298d18b-46ac-43a0-8755-b3f906e342f0",
   "metadata": {},
   "outputs": [
    {
     "name": "stdout",
     "output_type": "stream",
     "text": [
      "Welcome to your PERSONAL INFLATIONAL INDEX\n",
      "Choose whether you are a Consumer or Producer\n",
      "1: for Consumer\n",
      "2: for Producer\n",
      "3: for Exit\n"
     ]
    },
    {
     "name": "stdin",
     "output_type": "stream",
     "text": [
      "ENTER THE CHOICE 2\n"
     ]
    },
    {
     "name": "stdout",
     "output_type": "stream",
     "text": [
      "Welcome\n",
      "Enter the name of the commodity\n"
     ]
    },
    {
     "name": "stdin",
     "output_type": "stream",
     "text": [
      "Enter the Commodity RICE\n",
      "Enter the quantity you Produce in kg 2\n",
      "Enter the Current Price of Selected Commodity 200\n"
     ]
    },
    {
     "name": "stdout",
     "output_type": "stream",
     "text": [
      "BASE YEAR prices are those you want to compare with current year prices\n"
     ]
    },
    {
     "name": "stdin",
     "output_type": "stream",
     "text": [
      "Enter the Price of Base Year 180\n"
     ]
    },
    {
     "name": "stdout",
     "output_type": "stream",
     "text": [
      "(RICE) is (100.0) % INFLATED from Base year\n",
      "1: for Consumer\n",
      "2: for Producer\n",
      "3: for Exit\n"
     ]
    }
   ],
   "source": [
    "# MICRO DEFLATOR SIMULATION\n",
    "\n",
    "print(\"Welcome to your PERSONAL INFLATIONAL INDEX\")\n",
    "print(\"Choose whether you are a Consumer or Producer\")\n",
    "try:\n",
    "    while True:\n",
    "       #print(\"Choose whether you are a Consumer or Producer\")\n",
    "        print(\"1: for Consumer\")\n",
    "        print(\"2: for Producer\")\n",
    "        print(\"3: for Exit\")\n",
    "\n",
    "        choice=int(input(\"ENTER THE CHOICE\"))\n",
    "\n",
    "        if(choice==1):\n",
    "            print(\"Welcome\")\n",
    "            print(\"Enter the name of the commodity\")\n",
    "            commodity=input(\"Enter the Commodity\").upper()\n",
    "            quantity_1=input(\"Enter the quantity you consume\")\n",
    "            if(quantity_1.isdigit()):\n",
    "                quantity=int(quantity_1)\n",
    "            else:\n",
    "                print(\"Enter the Valid quantity and enter the Intezer value\")\n",
    "            current_price1=input(\"Enter the Current Price of Selected Commodity\")\n",
    "            if(current_price1.isdigit()):\n",
    "                current_price=int(current_price1)\n",
    "            else:\n",
    "                print(\"Enter the valid price and enter the INTEGER value\")\n",
    "            print(\"BASE YEAR prices are those you want to compare with current year prices\")  \n",
    "            base_price1=input(\"Enter the Price of Base Year\")\n",
    "            if(base_price1.isdigit()):\n",
    "                base_price=int(base_price1)\n",
    "            else:\n",
    "                print(\"Enter the valid Base year price\")\n",
    "            nominal_value=quantity*current_price\n",
    "            real_value=quantity*base_price\n",
    "            increased_value=nominal_value-real_value\n",
    "            deflator=float((increased_value/real_value)*100)\n",
    "            print(f\"({commodity}) is ({deflator}) % INFLATED from Base year\")\n",
    "\n",
    "\n",
    "\n",
    "\n",
    "        elif(choice==2):\n",
    "            print(\"Welcome\")\n",
    "            print(\"Enter the name of the commodity\")\n",
    "            commodity=input(\"Enter the Commodity\").upper()\n",
    "            quantity2=input(\"Enter the quantity you Produce in kg\")\n",
    "            if(quantity2.isdigit()):\n",
    "                quantity=int(quantity2)\n",
    "            else:\n",
    "                print(\"Enter the Valid quantity and enter the Intezer value\")\n",
    "            current_price2=input(\"Enter the Current Price of Selected Commodity\")\n",
    "            if(current_price2.isdigit()):\n",
    "                current_price=int(current_price2)\n",
    "            else:\n",
    "                print(\"Enter the valid price and enter the INTEGER value\")\n",
    "            print(\"BASE YEAR prices are those you want to compare with current year prices\")  \n",
    "            base_price2=input(\"Enter the Price of Base Year\")\n",
    "            if(base_price2.isdigit()):\n",
    "                base_year=int(base_price2)\n",
    "            else:\n",
    "                print(\"Enter the valid Base year price\")\n",
    "            nominal_value=quantity*current_price\n",
    "            real_value=quantity*base_price\n",
    "            increased_value=nominal_value-real_value\n",
    "            \n",
    "            deflator=float((increased_value/real_value)*100)\n",
    "            print(f\"({commodity}) is ({deflator}) % INFLATED from Base year\")\n",
    "        elif(choice==3):\n",
    "            break\n",
    "\n",
    "            1\n",
    "except ValueError:\n",
    "    print(\"Invalid input,please enter numbers only\")\n",
    "print(\"Thanks for Using\")\n",
    "\n",
    "\n",
    "            \n",
    "            "
   ]
  },
  {
   "cell_type": "code",
   "execution_count": null,
   "id": "f02bcdfe-6123-4c93-8bfc-fdf8800a0fa1",
   "metadata": {},
   "outputs": [],
   "source": []
  }
 ],
 "metadata": {
  "kernelspec": {
   "display_name": "Python 3 (ipykernel)",
   "language": "python",
   "name": "python3"
  },
  "language_info": {
   "codemirror_mode": {
    "name": "ipython",
    "version": 3
   },
   "file_extension": ".py",
   "mimetype": "text/x-python",
   "name": "python",
   "nbconvert_exporter": "python",
   "pygments_lexer": "ipython3",
   "version": "3.13.5"
  }
 },
 "nbformat": 4,
 "nbformat_minor": 5
}
